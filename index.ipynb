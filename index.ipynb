{
 "cells": [
  {
   "cell_type": "code",
   "execution_count": null,
   "metadata": {
    "collapsed": false,
    "jupyter": {
     "outputs_hidden": false
    }
   },
   "outputs": [],
   "source": [
    "# Checkout www.pygimli.org for more examples"
   ]
  },
  {
   "cell_type": "markdown",
   "metadata": {},
   "source": [
    "## Install pyGIMLi"
   ]
  },
  {
   "cell_type": "code",
   "execution_count": null,
   "metadata": {},
   "outputs": [],
   "source": [
    "%pip install pygimli"
   ]
  },
  {
   "cell_type": "markdown",
   "metadata": {},
   "source": [
    "\n",
    "# 2D gravity modelling and inversion\n",
    "\n",
    "In the following, we will build the model, create synthetic data, and do\n",
    "inversion using a depth-weighting function as outlined in the paper.\n"
   ]
  },
  {
   "cell_type": "code",
   "execution_count": null,
   "metadata": {
    "collapsed": false,
    "jupyter": {
     "outputs_hidden": false
    }
   },
   "outputs": [],
   "source": [
    "import numpy as np\n",
    "import pygimli as pg\n",
    "import pygimli.meshtools as mt\n",
    "# from pygimli.viewer import pv\n",
    "from pygimli.physics.gravimetry import GravityModelling2D"
   ]
  },
  {
   "cell_type": "markdown",
   "metadata": {},
   "source": [
    "## Synthetic model and data generation\n",
    "We create a rectangular modelling domain (50x15m) with a flat anomaly\n",
    "in a depth of about 5m.\n",
    "\n",
    "\n"
   ]
  },
  {
   "cell_type": "code",
   "execution_count": null,
   "metadata": {
    "collapsed": false,
    "jupyter": {
     "outputs_hidden": false
    }
   },
   "outputs": [],
   "source": [
    "world = mt.createWorld(start=[-25, 0], end=[25, -15],\n",
    "                       marker=1)\n",
    "rect = mt.createRectangle(start=[-6, -3.5], end=[6, -6.0],\n",
    "                          marker=2, area=0.1)\n",
    "rect.rotate([0, 0, 0.15])\n",
    "\n",
    "geom = world + rect\n",
    "pg.show(geom, markers=True)\n",
    "mesh = mt.createMesh(geom, quality=33, area=0.2)"
   ]
  },
  {
   "cell_type": "markdown",
   "metadata": {},
   "source": [
    "We assume measuring the gravity on a 50m long profile with dense spacing.\n",
    "We initialize the forward response by passing mesh and measuring points.\n",
    "Additionally, we map a density to the cell markers to build a model vector.\n",
    "\n",
    "\n"
   ]
  },
  {
   "cell_type": "code",
   "execution_count": null,
   "metadata": {
    "collapsed": false,
    "jupyter": {
     "outputs_hidden": false
    }
   },
   "outputs": [],
   "source": [
    "x = np.arange(-25, 25.1, .5)\n",
    "pnts = np.array([x, np.zeros(len(x))]).T\n",
    "\n",
    "fop = GravityModelling2D(mesh=mesh, points=pnts)\n",
    "dRho = pg.solver.parseMapToCellArray([[1, 0.0], [2, 300]], mesh)\n",
    "g = fop.response(dRho)"
   ]
  },
  {
   "cell_type": "markdown",
   "metadata": {},
   "source": [
    "We define an absolute error and add some Gaussian noise.\n",
    "\n",
    "\n"
   ]
  },
  {
   "cell_type": "code",
   "execution_count": null,
   "metadata": {
    "collapsed": false,
    "jupyter": {
     "outputs_hidden": false
    }
   },
   "outputs": [],
   "source": [
    "error = 0.0005\n",
    "data = g + np.random.randn(len(g)) * error"
   ]
  },
  {
   "cell_type": "markdown",
   "metadata": {},
   "source": [
    "The model response is then plotted along with the model\n",
    "\n",
    "\n"
   ]
  },
  {
   "cell_type": "code",
   "execution_count": null,
   "metadata": {
    "collapsed": false,
    "jupyter": {
     "outputs_hidden": false
    }
   },
   "outputs": [],
   "source": [
    "fig, ax = pg.plt.subplots(ncols=1, nrows=2, sharex=True)\n",
    "ax[0].plot(x, data, \"+\", label=\"data\")\n",
    "ax[0].plot(x, g, \"-\", label=\"noisefree\")\n",
    "ax[0].set_ylabel(r'$\\frac{\\partial u}{\\partial z}$ [mGal]')\n",
    "ax[0].grid()\n",
    "ax[0].legend()\n",
    "\n",
    "pg.show(mesh, dRho, ax=ax[1])\n",
    "ax[1].plot(x, x*0, 'bv')\n",
    "ax[1].set_xlabel('$x$-coordinate [m]')\n",
    "ax[1].set_ylabel('$z$-coordinate [m]')\n",
    "ax[1].set_ylim((-9, 1))\n",
    "ax[1].set_xlim((-25, 25))"
   ]
  },
  {
   "cell_type": "markdown",
   "metadata": {},
   "source": [
    "For inversion, we create a new mesh from the rectangular domain and setup a\n",
    "new instance of the modelling operator.\n",
    "\n",
    "\n"
   ]
  },
  {
   "cell_type": "code",
   "execution_count": null,
   "metadata": {
    "collapsed": false,
    "jupyter": {
     "outputs_hidden": false
    }
   },
   "outputs": [],
   "source": [
    "mesh = mt.createMesh(world, quality=33, area=1)\n",
    "fop = GravityModelling2D(mesh=mesh, points=pnts)"
   ]
  },
  {
   "cell_type": "markdown",
   "metadata": {},
   "source": [
    "## Depth weighting\n",
    "\n",
    "In the paper of Li & Oldenburg (1996), they propose a depth weighting of the\n",
    "constraints with the formula\n",
    "\n",
    "\\begin{align}w_z = \\frac{1}{(z+z_0)^{3/2}}\\end{align}\n",
    "\n",
    "\n"
   ]
  },
  {
   "cell_type": "code",
   "execution_count": null,
   "metadata": {
    "collapsed": false,
    "jupyter": {
     "outputs_hidden": false
    }
   },
   "outputs": [],
   "source": [
    "cz = -pg.y(mesh.cellCenters())\n",
    "z0 = 5\n",
    "wz = 1 / (cz+z0)**1.5\n",
    "pg.show()[0].plot(cz, wz, \".\")"
   ]
  },
  {
   "cell_type": "markdown",
   "metadata": {},
   "source": [
    "## Inversion\n",
    "\n",
    "For inversion, we use geostatistic regularization with a higher correlation\n",
    "length for x, compared to y, to account for the large equivalence.\n",
    "We limit the model to reasonable density contrasts of +/- 1000 kg/m^3.\n",
    "As the depth weighting decreases the local regularization weights, we have\n",
    "to increase the overall regularization strength lambda.\n",
    "\n",
    "\n"
   ]
  },
  {
   "cell_type": "code",
   "execution_count": null,
   "metadata": {
    "collapsed": false,
    "jupyter": {
     "outputs_hidden": false
    }
   },
   "outputs": [],
   "source": [
    "fop.region(1).setConstraintType(2)\n",
    "inv = pg.Inversion(fop=fop)\n",
    "inv.setRegularization(limits=[-1000, 1000], trans=\"Cot\",\n",
    "                      correlationLengths=[12, 2])\n",
    "inv.setConstraintWeights(wz)\n",
    "rho = inv.run(g, absoluteError=error, lam=1e5, verbose=True)"
   ]
  },
  {
   "cell_type": "markdown",
   "metadata": {},
   "source": [
    "## Visualization\n",
    "\n",
    "For showing the model, we again plot model response and model.\n",
    "\n",
    "\n"
   ]
  },
  {
   "cell_type": "code",
   "execution_count": null,
   "metadata": {
    "collapsed": false,
    "jupyter": {
     "outputs_hidden": false
    }
   },
   "outputs": [],
   "source": [
    "fig, ax = pg.plt.subplots(ncols=1, nrows=2, sharex=True)\n",
    "ax[0].plot(x, data, \"+\", label=\"data\")\n",
    "ax[0].plot(x, inv.response, \"-\", label=\"response\")\n",
    "ax[0].set_ylabel(r'$\\frac{\\partial u}{\\partial z}$ [mGal]')\n",
    "ax[0].grid()\n",
    "ax[0].legend()\n",
    "\n",
    "pg.show(mesh, rho, ax=ax[1], logScale=False)\n",
    "pg.viewer.mpl.drawPLC(ax[1], rect, fillRegion=False)\n",
    "ax[1].plot(x, x*0, 'bv')\n",
    "ax[1].set_xlabel('$x$-coordinate [m]')\n",
    "ax[1].set_ylabel('$z$-coordinate [m]')\n",
    "ax[1].set_ylim((-12, 1))\n",
    "ax[1].set_xlim((-25, 25))"
   ]
  },
  {
   "cell_type": "markdown",
   "metadata": {},
   "source": [
    "## References\n",
    "\n",
    "-  Li, Y. & Oldenburg, D. (1996): 3-D inversion of magnetic data.\n",
    "   Geophysics 61(2), 394-408.\n",
    "-  Holstein, H., Sherratt, E.M., Reid, A.B.  (2007): Gravimagnetic field\n",
    "   tensor gradiometry formulas for uniform polyhedra, SEG Ext. Abstr.\n",
    "\n",
    "\n"
   ]
  }
 ],
 "metadata": {
  "kernelspec": {
   "display_name": "Python 3 (ipykernel)",
   "language": "python",
   "name": "python3"
  },
  "language_info": {
   "codemirror_mode": {
    "name": "ipython",
    "version": 3
   },
   "file_extension": ".py",
   "mimetype": "text/x-python",
   "name": "python",
   "nbconvert_exporter": "python",
   "pygments_lexer": "ipython3",
   "version": "3.12.9"
  }
 },
 "nbformat": 4,
 "nbformat_minor": 4
}
